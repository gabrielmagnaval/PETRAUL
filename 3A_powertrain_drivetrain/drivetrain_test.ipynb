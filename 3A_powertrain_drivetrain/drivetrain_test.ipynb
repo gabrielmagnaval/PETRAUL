{
 "cells": [
  {
   "cell_type": "code",
   "execution_count": null,
   "id": "37d121a9",
   "metadata": {},
   "outputs": [],
   "source": [
    "The algorithm aims to calculate drivetrain parameters based on efficiency maps while evaluating the associated uncertainty."
   ]
  },
  {
   "cell_type": "code",
   "execution_count": 8,
   "id": "1cdc872e",
   "metadata": {},
   "outputs": [],
   "source": [
    "from pylab import *\n",
    "import csv\n",
    "import pandas as pd\n",
    "import numpy as np\n",
    "from matplotlib import pyplot as plt\n",
    "from matplotlib.colors import LinearSegmentedColormap\n",
    "from scipy.optimize import minimize\n",
    "import datetime"
   ]
  },
  {
   "cell_type": "code",
   "execution_count": 9,
   "id": "fde5af6d",
   "metadata": {},
   "outputs": [],
   "source": [
    "def load_engine_file(file_name):\n",
    "    \"\"\"\n",
    "    Load engine and drivetrain data from a CSV file and filter out invalid efficiency values.\n",
    "\n",
    "    Parameters:\n",
    "    file_name (str): Path to the CSV file.\n",
    "\n",
    "    Returns:\n",
    "    tuple: Extracted and filtered drivetrain data.\n",
    "    \"\"\"\n",
    "    # Read the CSV file\n",
    "    df = pd.read_csv(file_name, sep=';')\n",
    "\n",
    "    # Extract data from the file\n",
    "    drivetrain = df.iloc[0, 0]\n",
    "    gears = df.iloc[:, 1].values\n",
    "    transmission_ratios = df.iloc[:, 2].values\n",
    "    rpm_values = df.iloc[:, 3].values\n",
    "    torque_values = df.iloc[:, 4].values\n",
    "    efficiency_values = df.iloc[:, 5].values\n",
    "    transfer_ratio = df.iloc[0, 6]\n",
    "    max_power = df.iloc[0, 7]\n",
    "\n",
    "    # Filter out rows with efficiency less than or equal to 10\n",
    "    valid_indices = np.where(efficiency_values > 10)[0]\n",
    "    gears = gears[valid_indices]\n",
    "    transmission_ratios = transmission_ratios[valid_indices]\n",
    "    rpm_values = rpm_values[valid_indices]\n",
    "    torque_values = torque_values[valid_indices]\n",
    "    efficiency_values = efficiency_values[valid_indices]\n",
    "\n",
    "    return drivetrain, gears, transmission_ratios, rpm_values, torque_values, efficiency_values, transfer_ratio, max_power\n"
   ]
  },
  {
   "cell_type": "code",
   "execution_count": 10,
   "id": "746ff48f",
   "metadata": {},
   "outputs": [
    {
     "name": "stdout",
     "output_type": "stream",
     "text": [
      "Optimization Results:\n",
      "----------------------\n",
      "Mean Error [%]: 1.83\n",
      "a * P_max [J]: 4.47\n",
      "P_max [W]: 151000\n",
      "a [s] (scaled by P_max): 3.0e-05\n",
      "n_tr: 0.9721\n"
     ]
    }
   ],
   "source": [
    "# Load engine data\n",
    "name = 'Toyota.csv'\n",
    "#name = 'Chrysler.csv'\n",
    "#name = 'Malibu.csv'\n",
    "drivetrain, gears, transg, rpm, torque, eff, transf, P_max = load_engine_file(name)\n",
    "\n",
    "# Calculate transmission RPM and torque\n",
    "rpm_trans = rpm / (transg * transf)\n",
    "torque_trans = rpm * torque * eff / (100 * rpm_trans)\n",
    "\n",
    "# Convert RPM to angular velocity\n",
    "N = rpm * 2 * np.pi / 60\n",
    "Nt = rpm_trans * 2 * np.pi / 60\n",
    "Tt = torque_trans\n",
    "\n",
    "# Define the optimization objective function\n",
    "def objective_function(parameters):\n",
    "    n_tr, a = parameters\n",
    "    eff_model = Tt * Nt / (Tt * Nt / n_tr + a * N / n_tr) * 100\n",
    "    error = np.abs(eff - eff_model)\n",
    "    return np.sum(error)\n",
    "\n",
    "# Initial parameter values and bounds\n",
    "initial_parameters = [0.98, 1]\n",
    "parameter_bounds = [(np.max(eff) / 100, 1), (0, 10)]\n",
    "\n",
    "# Perform optimization\n",
    "optimization_result = minimize(objective_function, initial_parameters, method='Powell', bounds=parameter_bounds)\n",
    "\n",
    "# Extract optimal parameters\n",
    "optimal_parameters = optimization_result.x\n",
    "n_tr, a = optimal_parameters\n",
    "\n",
    "# Calculate the optimized efficiency model\n",
    "eff_model = Tt * Nt / (Tt * Nt / n_tr + a * N / n_tr) * 100\n",
    "\n",
    "# Calculate and display the error\n",
    "error_distribution = (eff - eff_model) / eff * 100\n",
    "mean_error = np.sum(np.abs(error_distribution)) / len(rpm)\n",
    "\n",
    "print('Optimization Results:')\n",
    "print('----------------------')\n",
    "print(f'Mean Error [%]: {mean_error:.2f}')\n",
    "print(f'a * P_max [J]: {a:.2f}')\n",
    "print(f'P_max [W]: {P_max:.0f}')\n",
    "print(f'a [s] (scaled by P_max): {a / P_max:.1e}')\n",
    "print(f'n_tr: {n_tr:.4f}')\n"
   ]
  },
  {
   "cell_type": "code",
   "execution_count": null,
   "id": "0ac2b3aa",
   "metadata": {},
   "outputs": [],
   "source": []
  }
 ],
 "metadata": {
  "kernelspec": {
   "display_name": "Python 3 (ipykernel)",
   "language": "python",
   "name": "python3"
  },
  "language_info": {
   "codemirror_mode": {
    "name": "ipython",
    "version": 3
   },
   "file_extension": ".py",
   "mimetype": "text/x-python",
   "name": "python",
   "nbconvert_exporter": "python",
   "pygments_lexer": "ipython3",
   "version": "3.9.18"
  }
 },
 "nbformat": 4,
 "nbformat_minor": 5
}
